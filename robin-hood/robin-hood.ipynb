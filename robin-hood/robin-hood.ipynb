{
 "cells": [
  {
   "cell_type": "code",
   "execution_count": null,
   "metadata": {},
   "outputs": [],
   "source": [
    "points = [(4, 5), (-0, 2), (4, 7), (1, -3), (3, -2), (4, 5), (3, 2), (5, 7), (-5, 7), (2, 2), (-4, 5), (0, -2),\n",
    "          (-4, 7), (-1, 3), (-3, 2), (-4, -5), (-3, 2), (5, 7), (5, 7), (2, 2), (9, 9), (-8, -9)]\n",
    "points_repet = []\n",
    "points_norepet= []\n",
    "\n",
    "for i in points:\n",
    "    if i not in points_norepet:\n",
    "        points_norepet.append(i)\n",
    "        total=points.count(i)\n",
    "        if total >1:\n",
    "            points_repet.append(i)\n",
    "            print(i)\n",
    "q1 = 0\n",
    "q2= 0\n",
    "q3= 0\n",
    "q4= 0\n",
    "\n",
    "for i in points:\n",
    "    if i[0] > 0 and i[1]>0:\n",
    "        q1+=1\n",
    "    elif i[0] >0 and i[1]<0:\n",
    "        q2+=1\n",
    "    elif i[0]<0 and i[1]<0:\n",
    "        q3+=1\n",
    "    elif i[0]<0 and i[1]>0:\n",
    "        q4+=1\n",
    "        \n",
    "print(\"hit\",q1)\n",
    "print(\"hit\", q2)\n",
    "print(\"hit\", q3)\n",
    "print(\"hit\", q4)\n",
    "\n",
    "\n",
    "\n",
    "distance = math.sqrt((x)**2 + (y)**2)"
   ]
  }
 ],
 "metadata": {
  "kernelspec": {
   "display_name": "Python 3",
   "language": "python",
   "name": "python3"
  },
  "language_info": {
   "codemirror_mode": {
    "name": "ipython",
    "version": 3
   },
   "file_extension": ".py",
   "mimetype": "text/x-python",
   "name": "python",
   "nbconvert_exporter": "python",
   "pygments_lexer": "ipython3",
   "version": "3.8.2"
  }
 },
 "nbformat": 4,
 "nbformat_minor": 4
}
