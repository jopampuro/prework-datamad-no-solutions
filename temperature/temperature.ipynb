{
 "cells": [
  {
   "cell_type": "code",
   "execution_count": 1,
   "metadata": {},
   "outputs": [
    {
     "name": "stdout",
     "output_type": "stream",
     "text": [
      "0\n",
      "90\n",
      "[70, 76, 80, 81, 80, 83, 90, 79]\n",
      "60.25\n",
      "[33, 66, 65, 62.0, 59, 60, 62, 64, 70, 76, 80, 81, 80, 83, 90, 79, 61, 53, 50, 49, 53, 48, 45, 39]\n",
      "[91, 151, 149, 144, 138, 140, 144, 147, 158, 169, 176, 178, 176, 181, 194, 174, 142, 127, 122, 120, 127, 118, 113, 102]\n",
      "replace system\n"
     ]
    }
   ],
   "source": [
    "temperatures_C = [33, 66, 65, 0, 59, 60, 62, 64, 70, 76, 80, 81, 80, 83, 90, 79, 61, 53, 50, 49, 53, 48, 45, 39]\n",
    "minimum = min(temperatures_C )\n",
    "print(minimum)\n",
    "maximum = max(temperatures_C )\n",
    "print(maximum)\n",
    "\n",
    "high = []\n",
    "\n",
    "for i in temperatures_C:\n",
    "    if i >= 70:\n",
    "        high.append(i)\n",
    "print(high)\n",
    "\n",
    "average= sum(temperatures_C )/len(temperatures_C )\n",
    "print(average)\n",
    "\n",
    "temperatures_C [3] = ((temperatures_C[2]+ temperatures_C[4])/2)\n",
    "print(temperatures_C)\n",
    "\n",
    "temperatures_F = []\n",
    "for i in temperatures_C:\n",
    "        temperatures_F.append(round(i*1.8 + 32))\n",
    "print(temperatures_F)\n",
    "\n",
    "if len(high)>=4:\n",
    "    print(\"replace system\")\n",
    "elif maximum > 80:\n",
    "    print(\"replace system\")\n",
    "elif average > 75:\n",
    "    print(\"replace system\")\n",
    "else:\n",
    "    print(\"ok\")"
   ]
  },
  {
   "cell_type": "code",
   "execution_count": null,
   "metadata": {},
   "outputs": [],
   "source": []
  }
 ],
 "metadata": {
  "kernelspec": {
   "display_name": "Python 3",
   "language": "python",
   "name": "python3"
  },
  "language_info": {
   "codemirror_mode": {
    "name": "ipython",
    "version": 3
   },
   "file_extension": ".py",
   "mimetype": "text/x-python",
   "name": "python",
   "nbconvert_exporter": "python",
   "pygments_lexer": "ipython3",
   "version": "3.8.2"
  }
 },
 "nbformat": 4,
 "nbformat_minor": 4
}
