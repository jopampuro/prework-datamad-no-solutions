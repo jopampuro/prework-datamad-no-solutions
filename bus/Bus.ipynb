{
 "cells": [
  {
   "cell_type": "code",
   "execution_count": 1,
   "metadata": {},
   "outputs": [
    {
     "name": "stdout",
     "output_type": "stream",
     "text": [
      "9\n",
      "[10, 13, 11, 10, 14, 10, 7, 5, 4]\n",
      "14\n",
      "9.333333333333334\n"
     ]
    }
   ],
   "source": [
    "# Variables\n",
    "stops = [(10, 0), (4, 1), (3, 5), (3, 4), (5, 1), (1, 5), (5, 8), (4, 6), (2, 3)]\n",
    "number_stops = len(stops)\n",
    "print(number_stops)\n",
    "\n",
    "total_passengers = 0\n",
    "passengers_perstop = []\n",
    "\n",
    "for i in stops:\n",
    "    passengers_in = i[0]\n",
    "    passengers_out = i[1]\n",
    "    total_passengers = total_passengers + passengers_in - passengers_out\n",
    "    passengers_perstop.append(total_passengers)\n",
    "   \n",
    "print(passengers_perstop)\n",
    "\n",
    "#Maximum\n",
    "\n",
    "maxs=max(passengers_perstop)\n",
    "print(maxs)\n",
    "\n",
    "#Average\n",
    "\n",
    "average = sum(passengers_perstop)/len(passengers_perstop)\n",
    "print(average)\n",
    "\n"
   ]
  },
  {
   "cell_type": "code",
   "execution_count": null,
   "metadata": {},
   "outputs": [],
   "source": []
  }
 ],
 "metadata": {
  "kernelspec": {
   "display_name": "Python 3",
   "language": "python",
   "name": "python3"
  },
  "language_info": {
   "codemirror_mode": {
    "name": "ipython",
    "version": 3
   },
   "file_extension": ".py",
   "mimetype": "text/x-python",
   "name": "python",
   "nbconvert_exporter": "python",
   "pygments_lexer": "ipython3",
   "version": "3.8.2"
  }
 },
 "nbformat": 4,
 "nbformat_minor": 4
}
